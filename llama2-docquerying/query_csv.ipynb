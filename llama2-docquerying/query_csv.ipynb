{
 "cells": [
  {
   "cell_type": "code",
   "execution_count": 12,
   "metadata": {},
   "outputs": [],
   "source": [
    "from langchain.llms import Ollama\n",
    "from langchain.callbacks.manager import CallbackManager\n",
    "from langchain.callbacks.streaming_stdout import StreamingStdOutCallbackHandler\n",
    "\n",
    "llm = Ollama(\n",
    "    model=\"llama2\",\n",
    "    verbose=True,\n",
    "    callback_manager=CallbackManager([StreamingStdOutCallbackHandler()]),\n",
    ") # allow for streaming the response\n"
   ]
  },
  {
   "cell_type": "code",
   "execution_count": 13,
   "metadata": {},
   "outputs": [
    {
     "data": {
      "text/plain": [
       "[Document(page_content='Housing Prices Dataset', metadata={'source': 'housing_prices.txt'}),\n",
       " Document(page_content='Home,Price,SqFt,Bedrooms,Bathrooms,Offers,Brick,Neighborhood\\n1,114300,1790,2,2,2,No,East\\n2,114200,2030,4,2,3,No,East\\n3,114800,1740,3,2,1,No,East\\n4,94700,1980,3,2,3,No,East\\n5,119800,2130,3,3,3,No,East\\n6,114600,1780,3,2,2,No,North\\n7,151600,1830,3,3,3,Yes,West\\n8,150700,2160,4,2,2,No,West\\n9,119200,2110,4,2,3,No,East\\n10,104000,1730,3,3,3,No,East\\n11,132500,2030,3,2,3,Yes,East\\n12,123000,1870,2,2,2,Yes,East\\n13,102600,1910,3,2,4,No,North\\n14,126300,2150,3,3,5,Yes,North\\n15,176800,2590,4,3,4,No,West\\n16,145800,1780,4,2,1,No,West\\n17,147100,2190,3,3,4,Yes,East\\n18,83600,1990,3,3,4,No,North\\n19,111400,1700,2,2,1,Yes,East\\n20,167200,1920,3,3,2,Yes,West\\n21,116200,1790,3,2,3,No,East\\n22,113800,2000,3,2,4,No,North\\n23,91700,1690,3,2,3,No,North\\n24,106100,1820,3,2,3,Yes,North\\n25,156400,2210,4,3,2,Yes,East\\n26,149300,2290,4,3,3,No,North\\n27,137000,2000,4,2,3,No,West\\n28,99300,1700,3,2,2,No,East\\n29,69100,1600,2,2,3,No,North\\n30,188000,2040,4,3,1,Yes,West\\n31,182000,2250,4,3,3,Yes,West\\n32,112300,1930,2,2,2,Yes,North\\n33,135000,2250,3,3,3,Yes,East\\n34,139600,2280,5,3,4,Yes,East\\n35,117800,2000,2,2,3,No,North\\n36,117100,2080,3,3,3,No,North\\n37,117500,1880,2,2,2,No,North\\n38,147000,2420,4,3,4,No,West\\n39,131300,1720,3,2,1,No,West\\n40,108200,1740,3,2,2,No,North\\n41,106600,1560,2,2,1,No,East\\n42,133600,1840,4,3,2,No,West\\n43,105600,1990,2,2,3,No,East\\n44,154000,1920,3,2,1,Yes,East\\n45,166500,1940,3,3,2,Yes,West\\n46,103200,1810,3,2,3,No,East\\n47,129800,1990,2,3,2,No,North\\n48,90300,2050,3,2,6,No,North\\n49,115900,1980,2,2,2,No,East', metadata={'source': 'housing_prices.txt'}),\n",
       " Document(page_content='47,129800,1990,2,3,2,No,North\\n48,90300,2050,3,2,6,No,North\\n49,115900,1980,2,2,2,No,East\\n50,107500,1700,3,2,3,Yes,North\\n51,151100,2100,3,2,3,Yes,East\\n52,91100,1860,2,2,3,No,North\\n53,117400,2150,2,3,4,No,North\\n54,130800,2100,3,2,3,No,North\\n55,81300,1650,3,2,3,No,North\\n56,125700,1720,2,2,2,Yes,East\\n57,140900,2190,3,2,3,Yes,East\\n58,152300,2240,4,3,3,No,West\\n59,138100,1840,3,3,1,No,West\\n60,155400,2090,4,2,1,No,West\\n61,180900,2200,3,3,1,No,West\\n62,100900,1610,2,2,2,No,North\\n63,161300,2220,4,3,2,No,West\\n64,120500,1910,2,3,2,No,East\\n65,130300,1860,3,2,2,No,West\\n66,111100,1450,2,2,1,Yes,North\\n67,126200,2210,3,3,4,No,North\\n68,151900,2040,4,3,3,No,East\\n69,93600,2140,3,2,4,No,North\\n70,165600,2080,4,3,3,No,West\\n71,166700,1950,3,3,3,Yes,West\\n72,157600,2160,4,2,1,No,West\\n73,107300,1650,3,2,3,No,North\\n74,125700,2040,3,3,2,No,East\\n75,144200,2140,3,3,3,No,West\\n76,106900,1900,2,2,2,No,North\\n77,129800,1930,3,2,2,No,West\\n78,176500,2280,4,3,3,Yes,West\\n79,121300,2130,3,2,3,No,North\\n80,143600,1780,4,2,1,No,West\\n81,143400,2190,3,3,4,Yes,East\\n82,184300,2140,4,3,2,Yes,West\\n83,164800,2050,2,2,1,Yes,West\\n84,147700,2410,3,3,2,No,East\\n85,90500,1520,2,2,3,No,North\\n86,188300,2250,4,3,2,Yes,West\\n87,102700,1900,4,2,4,No,North\\n88,172500,1880,3,3,1,Yes,West\\n89,127700,1930,3,3,2,No,North\\n90,97800,2010,2,2,4,No,North\\n91,143100,1920,4,2,2,No,West\\n92,116500,2150,3,2,2,No,East\\n93,142600,2110,3,2,2,No,West\\n94,157100,2080,3,3,2,No,East\\n95,160600,2150,4,3,3,Yes,West\\n96,152500,1970,2,2,1,Yes,West', metadata={'source': 'housing_prices.txt'}),\n",
       " Document(page_content='94,157100,2080,3,3,2,No,East\\n95,160600,2150,4,3,3,Yes,West\\n96,152500,1970,2,2,1,Yes,West\\n97,133300,2440,3,3,3,No,East\\n98,126800,2000,2,2,1,Yes,East\\n99,145500,2060,3,2,1,No,West\\n100,171000,2080,3,3,2,Yes,West\\n101,103200,2010,3,2,5,No,North\\n102,123100,2260,3,3,5,No,East\\n103,136800,2410,3,3,4,No,East\\n104,211200,2440,4,3,3,Yes,West\\n105,82300,1910,3,2,4,No,East\\n106,146900,2530,4,3,4,No,West\\n107,108500,2130,3,2,4,No,North\\n108,134000,1890,3,2,1,Yes,East\\n109,117000,1990,3,3,3,Yes,East\\n110,108700,2110,3,2,3,No,East\\n111,111600,1710,2,2,1,No,North\\n112,114900,1740,2,2,2,No,North\\n113,123600,1940,2,2,2,Yes,East\\n114,115700,2000,3,2,3,Yes,North\\n115,124500,2010,4,3,2,No,East\\n116,102500,1900,3,3,3,No,North\\n117,199500,2290,5,4,1,Yes,West\\n118,117800,1920,3,2,2,No,North\\n119,150200,1950,3,2,3,Yes,North\\n120,109700,1920,2,2,4,No,North\\n121,110400,1930,2,3,3,No,North\\n122,105600,1930,3,3,3,No,East\\n123,144800,2060,2,2,1,Yes,East\\n124,119700,1900,3,3,3,Yes,East\\n125,147900,2160,4,3,3,Yes,East\\n126,113500,2070,2,2,2,No,North\\n127,149900,2020,3,3,1,No,West\\n128,124600,2250,3,3,4,No,North', metadata={'source': 'housing_prices.txt'})]"
      ]
     },
     "execution_count": 13,
     "metadata": {},
     "output_type": "execute_result"
    }
   ],
   "source": [
    "# from langchain.document_loaders.csv_loader import CSVLoader\n",
    "from langchain.document_loaders.csv_loader import CSVLoader\n",
    "from langchain.text_splitter import RecursiveCharacterTextSplitter\n",
    "\n",
    "data = CSVLoader(\"housing_prices.csv\").load()\n",
    "\n",
    "text_splitter = RecursiveCharacterTextSplitter(chunk_size=1500, chunk_overlap=100) # you should experiment with!\n",
    "all_splits = text_splitter.split_documents(data)\n",
    "\n",
    "all_splits"
   ]
  },
  {
   "cell_type": "code",
   "execution_count": null,
   "metadata": {},
   "outputs": [],
   "source": [
    "!rm -rf local_embeddings"
   ]
  },
  {
   "cell_type": "code",
   "execution_count": 14,
   "metadata": {},
   "outputs": [
    {
     "name": "stdout",
     "output_type": "stream",
     "text": [
      "bert_load_from_file: gguf version     = 2\n",
      "bert_load_from_file: gguf alignment   = 32\n",
      "bert_load_from_file: gguf data offset = 695552\n",
      "bert_load_from_file: model name           = BERT\n",
      "bert_load_from_file: model architecture   = bert\n",
      "bert_load_from_file: model file type      = 1\n",
      "bert_load_from_file: bert tokenizer vocab = 30522\n"
     ]
    }
   ],
   "source": [
    "# Embed and store\n",
    "from langchain.vectorstores import Chroma\n",
    "from langchain.embeddings import GPT4AllEmbeddings\n",
    "from langchain.embeddings import OllamaEmbeddings  # We can also try Ollama embeddings\n",
    "\n",
    "vectorstore = Chroma.from_documents(documents=all_splits, embedding=GPT4AllEmbeddings(),persist_directory=\"local_embeddings\")"
   ]
  },
  {
   "cell_type": "code",
   "execution_count": 15,
   "metadata": {},
   "outputs": [
    {
     "data": {
      "text/plain": [
       "4"
      ]
     },
     "execution_count": 15,
     "metadata": {},
     "output_type": "execute_result"
    }
   ],
   "source": [
    "question = \"types of Neighborhood?\"\n",
    "docs = vectorstore.similarity_search(question)\n",
    "len(docs)"
   ]
  },
  {
   "cell_type": "code",
   "execution_count": 16,
   "metadata": {},
   "outputs": [
    {
     "name": "stdout",
     "output_type": "stream",
     "text": [
      "page_content='Home: 119\\nPrice: 150200\\nSqFt: 1950\\nBedrooms: 3\\nBathrooms: 2\\nOffers: 3\\nBrick: Yes\\nNeighborhood: North' metadata={'row': 118, 'source': 'housing_prices.csv'}\n"
     ]
    }
   ],
   "source": [
    "print(docs[0])"
   ]
  },
  {
   "cell_type": "code",
   "execution_count": 17,
   "metadata": {},
   "outputs": [
    {
     "name": "stdout",
     "output_type": "stream",
     "text": [
      "Thank you for providing the context. Based on the information provided, there are three types of neighborhoods:\n",
      "\n",
      "1. North Neighborhood: All the homes in this area have a brick exterior and are located in the North part of the city.\n",
      "2. East Neighborhood: Homes in this area do not have a brick exterior and are located in the East part of the city.\n",
      "3. Unspecified Neighborhood: The remaining homes do not have information about their neighborhood type."
     ]
    }
   ],
   "source": [
    "# QA chain\n",
    "from langchain.chains import RetrievalQA\n",
    "\n",
    "# RAG prompt\n",
    "from langchain import hub\n",
    "\n",
    "QA_CHAIN_PROMPT = hub.pull(\"rlm/rag-prompt-llama\")\n",
    "\n",
    "qa_chain = RetrievalQA.from_chain_type(\n",
    "    llm,\n",
    "    retriever=vectorstore.as_retriever(),\n",
    "    chain_type_kwargs={\"prompt\": QA_CHAIN_PROMPT},\n",
    ")\n",
    "\n",
    "\n",
    "result = qa_chain({\"query\": \"types of Neighborhoods?\"})"
   ]
  },
  {
   "cell_type": "code",
   "execution_count": 18,
   "metadata": {},
   "outputs": [
    {
     "name": "stdout",
     "output_type": "stream",
     "text": [
      "The most expensive neighborhood based on the provided information is North. The home with the highest price in this neighborhood is Home: 89, with a price of $127,700."
     ]
    }
   ],
   "source": [
    "result = qa_chain({\"query\": \"What is the most expensive neighborhood?\"})"
   ]
  },
  {
   "cell_type": "code",
   "execution_count": 19,
   "metadata": {},
   "outputs": [
    {
     "name": "stdout",
     "output_type": "stream",
     "text": [
      "Here are the rows of the retrieved Housing Prices Dataset:\n",
      "\n",
      "Home: 108, Price: $134,000, SqFt: 1890, Bedrooms: 3, Bathrooms: 2, Offers: 1, Brick: Yes, Neighborhood: East\n",
      "\n",
      "Home: 123, Price: $144,800, SqFt: 2060, Bedrooms: 2, Bathrooms: 2, Offers: 1, Brick: Yes, Neighborhood: East"
     ]
    }
   ],
   "source": [
    "result = qa_chain({\"query\": \"display all the rows of the housing dataset?\"})"
   ]
  }
 ],
 "metadata": {
  "kernelspec": {
   "display_name": "Python 3",
   "language": "python",
   "name": "python3"
  },
  "language_info": {
   "codemirror_mode": {
    "name": "ipython",
    "version": 3
   },
   "file_extension": ".py",
   "mimetype": "text/x-python",
   "name": "python",
   "nbconvert_exporter": "python",
   "pygments_lexer": "ipython3",
   "version": "3.10.13"
  }
 },
 "nbformat": 4,
 "nbformat_minor": 2
}
