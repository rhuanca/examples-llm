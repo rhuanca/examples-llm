{
 "cells": [
  {
   "cell_type": "code",
   "execution_count": 1,
   "metadata": {},
   "outputs": [
    {
     "data": {
      "text/plain": [
       "True"
      ]
     },
     "execution_count": 1,
     "metadata": {},
     "output_type": "execute_result"
    }
   ],
   "source": [
    "import os\n",
    "from dotenv import load_dotenv\n",
    "\n",
    "load_dotenv()"
   ]
  },
  {
   "cell_type": "code",
   "execution_count": 2,
   "metadata": {},
   "outputs": [],
   "source": [
    "\n",
    "import google.generativeai as genai"
   ]
  },
  {
   "cell_type": "code",
   "execution_count": 3,
   "metadata": {},
   "outputs": [],
   "source": [
    "genai.configure(api_key=os.environ['GOOGLE_API_KEY'])"
   ]
  },
  {
   "cell_type": "code",
   "execution_count": 4,
   "metadata": {},
   "outputs": [
    {
     "name": "stdout",
     "output_type": "stream",
     "text": [
      " genai.GenerativeModel(\n",
      "   model_name='models/gemini-pro',\n",
      "   generation_config={}.\n",
      "   safety_settings={}\n",
      ")\n"
     ]
    }
   ],
   "source": [
    "model=genai.GenerativeModel('gemini-pro')\n",
    "\n",
    "print(model)"
   ]
  },
  {
   "cell_type": "code",
   "execution_count": 5,
   "metadata": {},
   "outputs": [
    {
     "name": "stdout",
     "output_type": "stream",
     "text": [
      "```sql\n",
      "SELECT seller, SUM(total_amount) AS total_sales_usd\n",
      "FROM delta.`s3://bucket/sales`\n",
      "WHERE sale_date >= date_sub(current_date(), 3)\n",
      "GROUP BY seller\n",
      "ORDER BY total_sales_usd DESC\n",
      "LIMIT 10;\n",
      "```\n"
     ]
    }
   ],
   "source": [
    "\n",
    "prompt_template = \"\"\"\n",
    "[Context]\n",
    "As a Data Scientist expert in SQL and given a sales delta lake table that containts the daily sales of a sporting goods store.\n",
    "You receive human written text requests to get information from the sales table. You need to generate the SQL statement to get the information requested.\n",
    "The table has the following schema:\n",
    "- sale_id\n",
    "- product_name\n",
    "- seller\n",
    "- quantity_sold\n",
    "- sale_date\n",
    "- customer_name\n",
    "- total_amount (in usd)\n",
    "The path of the delta lake table is: \"s3://bucket/sales\".\n",
    "\n",
    "When generating the query take into account the following:\n",
    "1. The select statement follow the following format: Select * from delta.`s3://bucket/sales`\n",
    "2. If you need to use a where clause to get the sales date minus some days, use the following format : sale_date >= date_sub(current_date(), 7)\n",
    "\n",
    "Answer 'NoAnswer' if you do not know the answer.\n",
    "[Request]\n",
    "{request}\n",
    "\"\"\"\n",
    "\n",
    "model_response = model.generate_content(\n",
    "    prompt_template.format(request=\"Get me the top ten sellers and the sells in USD in the past 3 days\"),\n",
    "    generation_config={\"temperature\": 0}\n",
    ")\n",
    "\n",
    "print(model_response.text)"
   ]
  },
  {
   "cell_type": "code",
   "execution_count": 43,
   "metadata": {},
   "outputs": [
    {
     "name": "stdout",
     "output_type": "stream",
     "text": [
      "SELECT seller, SUM(total_amount) AS total_sales_usd\n",
      "FROM delta.`s3://bucket/sales`\n",
      "WHERE sale_date >= date_sub(current_date(), 3)\n",
      "GROUP BY seller\n",
      "ORDER BY total_sales_usd DESC\n",
      "LIMIT 10;\n"
     ]
    }
   ],
   "source": [
    "sales_table_path = \"s3://{aws_access}:{aws_secret}@mydev-databricks/deltalake/sales\".format(\n",
    "    aws_access=os.environ['AWS_ACCESS_KEY'], aws_secret=os.environ['AWS_SECRET_KEY']\n",
    ")\n",
    "sql_statement = model_response.text.split('\\n')[1:-1]\n",
    "sql_statement = '\\n'.join(sql_statement)\n",
    "\n",
    "print(sql_statement)"
   ]
  },
  {
   "cell_type": "code",
   "execution_count": 44,
   "metadata": {},
   "outputs": [],
   "source": [
    "sql_statement = sql_statement.replace('s3://bucket/sales', sales_table_path)"
   ]
  },
  {
   "cell_type": "code",
   "execution_count": 45,
   "metadata": {},
   "outputs": [],
   "source": [
    "import requests\n",
    "import json\n",
    "\n",
    "url = \"{databricks_api}/sql/statements/\".format(databricks_api=os.environ['DATABRICKS_API'])\n",
    "\n",
    "payload = json.dumps({\n",
    "  \"warehouse_id\": os.environ['DATABRICKS_WAREHOUSE_ID'],\n",
    "  \"statement\": sql_statement,\n",
    "  \"wait_timeout\": \"50s\"\n",
    "})\n",
    "headers = {\n",
    "  'Content-Type': 'application/json',\n",
    "  'Authorization': 'Bearer {databricks_token}'.format(databricks_token=os.environ['DATABRICKS_TOKEN'])\n",
    "}\n"
   ]
  },
  {
   "cell_type": "code",
   "execution_count": 47,
   "metadata": {},
   "outputs": [
    {
     "name": "stdout",
     "output_type": "stream",
     "text": [
      "{\"statement_id\":\"01eec1d1-06f2-1fdd-9026-25a00f8aaf1e\",\"status\":{\"state\":\"SUCCEEDED\"},\"manifest\":{\"format\":\"JSON_ARRAY\",\"schema\":{\"column_count\":2,\"columns\":[{\"name\":\"seller\",\"type_text\":\"STRING\",\"type_name\":\"STRING\",\"position\":0},{\"name\":\"total_sales_usd\",\"type_text\":\"DOUBLE\",\"type_name\":\"DOUBLE\",\"position\":1}]},\"total_chunk_count\":1,\"chunks\":[{\"chunk_index\":0,\"row_offset\":0,\"row_count\":10}],\"total_row_count\":10,\"truncated\":false},\"result\":{\"chunk_index\":0,\"row_offset\":0,\"row_count\":10,\"data_array\":[[\"David Moore\",\"1180.0\"],[\"Michael Williams\",\"1100.0\"],[\"Emma Jones\",\"920.0\"],[\"Sophia Wilson\",\"880.0\"],[\"Jane Johnson\",\"860.0\"],[\"Ava Taylor\",\"700.0\"],[\"Olivia Davis\",\"700.0\"],[\"William Miller\",\"680.0\"],[\"John Smith\",\"680.0\"],[\"Robert Brown\",\"660.0\"]]}}\n"
     ]
    }
   ],
   "source": [
    "response = requests.request(\"POST\", url, headers=headers, data=payload)\n",
    "\n",
    "print(response.text)"
   ]
  },
  {
   "cell_type": "code",
   "execution_count": 48,
   "metadata": {},
   "outputs": [
    {
     "name": "stdout",
     "output_type": "stream",
     "text": [
      "{'statement_id': '01eec1d1-06f2-1fdd-9026-25a00f8aaf1e', 'status': {'state': 'SUCCEEDED'}, 'manifest': {'format': 'JSON_ARRAY', 'schema': {'column_count': 2, 'columns': [{'name': 'seller', 'type_text': 'STRING', 'type_name': 'STRING', 'position': 0}, {'name': 'total_sales_usd', 'type_text': 'DOUBLE', 'type_name': 'DOUBLE', 'position': 1}]}, 'total_chunk_count': 1, 'chunks': [{'chunk_index': 0, 'row_offset': 0, 'row_count': 10}], 'total_row_count': 10, 'truncated': False}, 'result': {'chunk_index': 0, 'row_offset': 0, 'row_count': 10, 'data_array': [['David Moore', '1180.0'], ['Michael Williams', '1100.0'], ['Emma Jones', '920.0'], ['Sophia Wilson', '880.0'], ['Jane Johnson', '860.0'], ['Ava Taylor', '700.0'], ['Olivia Davis', '700.0'], ['William Miller', '680.0'], ['John Smith', '680.0'], ['Robert Brown', '660.0']]}}\n"
     ]
    }
   ],
   "source": [
    "response_json = json.loads(response.text)\n",
    "print(response_json)"
   ]
  },
  {
   "cell_type": "code",
   "execution_count": 50,
   "metadata": {},
   "outputs": [
    {
     "name": "stdout",
     "output_type": "stream",
     "text": [
      "[{'name': 'seller', 'type_text': 'STRING', 'type_name': 'STRING', 'position': 0}, {'name': 'total_sales_usd', 'type_text': 'DOUBLE', 'type_name': 'DOUBLE', 'position': 1}]\n"
     ]
    }
   ],
   "source": [
    "columns = response_json['manifest']['schema']['columns']\n",
    "print(columns)"
   ]
  },
  {
   "cell_type": "code",
   "execution_count": 51,
   "metadata": {},
   "outputs": [
    {
     "name": "stdout",
     "output_type": "stream",
     "text": [
      "[['David Moore', '1180.0'], ['Michael Williams', '1100.0'], ['Emma Jones', '920.0'], ['Sophia Wilson', '880.0'], ['Jane Johnson', '860.0'], ['Ava Taylor', '700.0'], ['Olivia Davis', '700.0'], ['William Miller', '680.0'], ['John Smith', '680.0'], ['Robert Brown', '660.0']]\n"
     ]
    }
   ],
   "source": [
    "data = response_json['result']['data_array']\n",
    "print(data)"
   ]
  },
  {
   "cell_type": "code",
   "execution_count": 55,
   "metadata": {},
   "outputs": [],
   "source": [
    "import pandas as pd"
   ]
  },
  {
   "cell_type": "code",
   "execution_count": 56,
   "metadata": {},
   "outputs": [],
   "source": [
    "# Extract column names from JSON\n",
    "column_names = [column['name'] for column in columns]\n",
    "\n",
    "# Create Pandas DataFrame\n",
    "df = pd.DataFrame(data, columns=column_names)"
   ]
  },
  {
   "cell_type": "code",
   "execution_count": 60,
   "metadata": {},
   "outputs": [
    {
     "data": {
      "text/html": [
       "<div>\n",
       "<style scoped>\n",
       "    .dataframe tbody tr th:only-of-type {\n",
       "        vertical-align: middle;\n",
       "    }\n",
       "\n",
       "    .dataframe tbody tr th {\n",
       "        vertical-align: top;\n",
       "    }\n",
       "\n",
       "    .dataframe thead th {\n",
       "        text-align: right;\n",
       "    }\n",
       "</style>\n",
       "<table border=\"1\" class=\"dataframe\">\n",
       "  <thead>\n",
       "    <tr style=\"text-align: right;\">\n",
       "      <th></th>\n",
       "      <th>seller</th>\n",
       "      <th>total_sales_usd</th>\n",
       "    </tr>\n",
       "  </thead>\n",
       "  <tbody>\n",
       "    <tr>\n",
       "      <th>0</th>\n",
       "      <td>David Moore</td>\n",
       "      <td>1180.0</td>\n",
       "    </tr>\n",
       "    <tr>\n",
       "      <th>1</th>\n",
       "      <td>Michael Williams</td>\n",
       "      <td>1100.0</td>\n",
       "    </tr>\n",
       "    <tr>\n",
       "      <th>2</th>\n",
       "      <td>Emma Jones</td>\n",
       "      <td>920.0</td>\n",
       "    </tr>\n",
       "    <tr>\n",
       "      <th>3</th>\n",
       "      <td>Sophia Wilson</td>\n",
       "      <td>880.0</td>\n",
       "    </tr>\n",
       "    <tr>\n",
       "      <th>4</th>\n",
       "      <td>Jane Johnson</td>\n",
       "      <td>860.0</td>\n",
       "    </tr>\n",
       "    <tr>\n",
       "      <th>5</th>\n",
       "      <td>Ava Taylor</td>\n",
       "      <td>700.0</td>\n",
       "    </tr>\n",
       "    <tr>\n",
       "      <th>6</th>\n",
       "      <td>Olivia Davis</td>\n",
       "      <td>700.0</td>\n",
       "    </tr>\n",
       "    <tr>\n",
       "      <th>7</th>\n",
       "      <td>William Miller</td>\n",
       "      <td>680.0</td>\n",
       "    </tr>\n",
       "    <tr>\n",
       "      <th>8</th>\n",
       "      <td>John Smith</td>\n",
       "      <td>680.0</td>\n",
       "    </tr>\n",
       "    <tr>\n",
       "      <th>9</th>\n",
       "      <td>Robert Brown</td>\n",
       "      <td>660.0</td>\n",
       "    </tr>\n",
       "  </tbody>\n",
       "</table>\n",
       "</div>"
      ],
      "text/plain": [
       "             seller total_sales_usd\n",
       "0       David Moore          1180.0\n",
       "1  Michael Williams          1100.0\n",
       "2        Emma Jones           920.0\n",
       "3     Sophia Wilson           880.0\n",
       "4      Jane Johnson           860.0\n",
       "5        Ava Taylor           700.0\n",
       "6      Olivia Davis           700.0\n",
       "7    William Miller           680.0\n",
       "8        John Smith           680.0\n",
       "9      Robert Brown           660.0"
      ]
     },
     "metadata": {},
     "output_type": "display_data"
    }
   ],
   "source": [
    "from IPython.display import display, HTML\n",
    "display(df)"
   ]
  }
 ],
 "metadata": {
  "kernelspec": {
   "display_name": "Python 3",
   "language": "python",
   "name": "python3"
  },
  "language_info": {
   "codemirror_mode": {
    "name": "ipython",
    "version": 3
   },
   "file_extension": ".py",
   "mimetype": "text/x-python",
   "name": "python",
   "nbconvert_exporter": "python",
   "pygments_lexer": "ipython3",
   "version": "3.12.1"
  }
 },
 "nbformat": 4,
 "nbformat_minor": 2
}
